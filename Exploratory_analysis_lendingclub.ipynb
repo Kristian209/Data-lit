{
  "nbformat": 4,
  "nbformat_minor": 0,
  "metadata": {
    "colab": {
      "name": "Exploratory_analysis",
      "version": "0.3.2",
      "provenance": [],
      "collapsed_sections": [],
      "include_colab_link": true
    },
    "kernelspec": {
      "name": "python3",
      "display_name": "Python 3"
    },
    "accelerator": "GPU"
  },
  "cells": [
    {
      "cell_type": "markdown",
      "metadata": {
        "id": "view-in-github",
        "colab_type": "text"
      },
      "source": [
        "<a href=\"https://colab.research.google.com/github/Kristian209/Data-lit/blob/master/Exploratory_analysis_lendingclub.ipynb\" target=\"_parent\"><img src=\"https://colab.research.google.com/assets/colab-badge.svg\" alt=\"Open In Colab\"/></a>"
      ]
    },
    {
      "cell_type": "markdown",
      "metadata": {
        "id": "iEfggRTIA0Cu",
        "colab_type": "text"
      },
      "source": [
        "#In this Jupyter Notebook, I will be doing exploratory data analysis on the the LendingClub dataset with the purpose to explore their data science proccess and the kind of people that get loans through them."
      ]
    },
    {
      "cell_type": "markdown",
      "metadata": {
        "id": "jxpikInFBGn3",
        "colab_type": "text"
      },
      "source": [
        "###We will first start with finding a few statistical features from the dataset by doing a boxplot vizualization, but before we do that we need to have a solid understanding of the data."
      ]
    },
    {
      "cell_type": "code",
      "metadata": {
        "id": "Kn8e7pX1BBkj",
        "colab_type": "code",
        "colab": {}
      },
      "source": [
        "#Step 1: Import libraries\n",
        "\n",
        "#data preprocessing\n",
        "import pandas as pd\n",
        "#matrix math\n",
        "import numpy as np\n",
        "#data visualization\n",
        "import matplotlib.pyplot as plt\n",
        "import seaborn as sns"
      ],
      "execution_count": 0,
      "outputs": []
    },
    {
      "cell_type": "code",
      "metadata": {
        "id": "G_7Pz_XlrNuW",
        "colab_type": "code",
        "outputId": "f863ed91-0d43-49c1-ca6b-10728bb4ad8d",
        "colab": {
          "base_uri": "https://localhost:8080/",
          "height": 122
        }
      },
      "source": [
        "from google.colab import drive\n",
        "drive.mount('/content/gdrive')"
      ],
      "execution_count": 0,
      "outputs": [
        {
          "output_type": "stream",
          "text": [
            "Go to this URL in a browser: https://accounts.google.com/o/oauth2/auth?client_id=947318989803-6bn6qk8qdgf4n4g3pfee6491hc0brc4i.apps.googleusercontent.com&redirect_uri=urn%3Aietf%3Awg%3Aoauth%3A2.0%3Aoob&scope=email%20https%3A%2F%2Fwww.googleapis.com%2Fauth%2Fdocs.test%20https%3A%2F%2Fwww.googleapis.com%2Fauth%2Fdrive%20https%3A%2F%2Fwww.googleapis.com%2Fauth%2Fdrive.photos.readonly%20https%3A%2F%2Fwww.googleapis.com%2Fauth%2Fpeopleapi.readonly&response_type=code\n",
            "\n",
            "Enter your authorization code:\n",
            "··········\n",
            "Mounted at /content/gdrive\n"
          ],
          "name": "stdout"
        }
      ]
    },
    {
      "cell_type": "code",
      "metadata": {
        "id": "nJkChGgeCmfZ",
        "colab_type": "code",
        "outputId": "9c83e676-bb29-4072-89fa-c2f25cdb867c",
        "colab": {
          "base_uri": "https://localhost:8080/",
          "height": 51
        }
      },
      "source": [
        "!pip install -U -q PyDrive\n",
        "import os\n",
        "from pydrive.auth import GoogleAuth\n",
        "from pydrive.drive import GoogleDrive\n",
        "from google.colab import auth\n",
        "from oauth2client.client import GoogleCredentials\n",
        "\n",
        "#Authenticate and create the PyDrive client.\n",
        "auth.authenticate_user()\n",
        "gauth = GoogleAuth()\n",
        "gauth.credentials = GoogleCredentials.get_application_default()\n",
        "drive = GoogleDrive(gauth)\n",
        "\n",
        "loan_club_data = '1aypxioe7H7U-VFQx0_JUHhiBixDhB2G0'\n",
        "downloaded = drive.CreateFile({'id': loan_club_data})\n",
        "loan_club_dict = '1KofjExKh98OoANZGnZP3CLynaMj5qpIE'\n",
        "downloaded_1 = drive.CreateFile({'id': loan_club_dict})\n",
        "\n",
        "downloaded.GetContentFile('LoanStats3a.csv')\n",
        "downloaded_1.GetContentFile('LCDataDictionary.csv')"
      ],
      "execution_count": 2,
      "outputs": [
        {
          "output_type": "stream",
          "text": [
            "\u001b[?25l\r\u001b[K     |▎                               | 10kB 18.2MB/s eta 0:00:01\r\u001b[K     |▋                               | 20kB 4.5MB/s eta 0:00:01\r\u001b[K     |█                               | 30kB 6.3MB/s eta 0:00:01\r\u001b[K     |█▎                              | 40kB 4.0MB/s eta 0:00:01\r\u001b[K     |█▋                              | 51kB 4.8MB/s eta 0:00:01\r\u001b[K     |██                              | 61kB 5.7MB/s eta 0:00:01\r\u001b[K     |██▎                             | 71kB 6.5MB/s eta 0:00:01\r\u001b[K     |██▋                             | 81kB 7.3MB/s eta 0:00:01\r\u001b[K     |███                             | 92kB 8.1MB/s eta 0:00:01\r\u001b[K     |███▎                            | 102kB 6.4MB/s eta 0:00:01\r\u001b[K     |███▋                            | 112kB 6.4MB/s eta 0:00:01\r\u001b[K     |████                            | 122kB 6.4MB/s eta 0:00:01\r\u001b[K     |████▎                           | 133kB 6.4MB/s eta 0:00:01\r\u001b[K     |████▋                           | 143kB 6.4MB/s eta 0:00:01\r\u001b[K     |█████                           | 153kB 6.4MB/s eta 0:00:01\r\u001b[K     |█████▎                          | 163kB 6.4MB/s eta 0:00:01\r\u001b[K     |█████▋                          | 174kB 6.4MB/s eta 0:00:01\r\u001b[K     |██████                          | 184kB 6.4MB/s eta 0:00:01\r\u001b[K     |██████▎                         | 194kB 6.4MB/s eta 0:00:01\r\u001b[K     |██████▋                         | 204kB 6.4MB/s eta 0:00:01\r\u001b[K     |███████                         | 215kB 6.4MB/s eta 0:00:01\r\u001b[K     |███████▎                        | 225kB 6.4MB/s eta 0:00:01\r\u001b[K     |███████▋                        | 235kB 6.4MB/s eta 0:00:01\r\u001b[K     |████████                        | 245kB 6.4MB/s eta 0:00:01\r\u001b[K     |████████▎                       | 256kB 6.4MB/s eta 0:00:01\r\u001b[K     |████████▋                       | 266kB 6.4MB/s eta 0:00:01\r\u001b[K     |█████████                       | 276kB 6.4MB/s eta 0:00:01\r\u001b[K     |█████████▎                      | 286kB 6.4MB/s eta 0:00:01\r\u001b[K     |█████████▋                      | 296kB 6.4MB/s eta 0:00:01\r\u001b[K     |██████████                      | 307kB 6.4MB/s eta 0:00:01\r\u001b[K     |██████████▎                     | 317kB 6.4MB/s eta 0:00:01\r\u001b[K     |██████████▋                     | 327kB 6.4MB/s eta 0:00:01\r\u001b[K     |███████████                     | 337kB 6.4MB/s eta 0:00:01\r\u001b[K     |███████████▎                    | 348kB 6.4MB/s eta 0:00:01\r\u001b[K     |███████████▋                    | 358kB 6.4MB/s eta 0:00:01\r\u001b[K     |████████████                    | 368kB 6.4MB/s eta 0:00:01\r\u001b[K     |████████████▎                   | 378kB 6.4MB/s eta 0:00:01\r\u001b[K     |████████████▋                   | 389kB 6.4MB/s eta 0:00:01\r\u001b[K     |█████████████                   | 399kB 6.4MB/s eta 0:00:01\r\u001b[K     |█████████████▎                  | 409kB 6.4MB/s eta 0:00:01\r\u001b[K     |█████████████▋                  | 419kB 6.4MB/s eta 0:00:01\r\u001b[K     |██████████████                  | 430kB 6.4MB/s eta 0:00:01\r\u001b[K     |██████████████▎                 | 440kB 6.4MB/s eta 0:00:01\r\u001b[K     |██████████████▋                 | 450kB 6.4MB/s eta 0:00:01\r\u001b[K     |███████████████                 | 460kB 6.4MB/s eta 0:00:01\r\u001b[K     |███████████████▎                | 471kB 6.4MB/s eta 0:00:01\r\u001b[K     |███████████████▋                | 481kB 6.4MB/s eta 0:00:01\r\u001b[K     |████████████████                | 491kB 6.4MB/s eta 0:00:01\r\u001b[K     |████████████████▎               | 501kB 6.4MB/s eta 0:00:01\r\u001b[K     |████████████████▋               | 512kB 6.4MB/s eta 0:00:01\r\u001b[K     |█████████████████               | 522kB 6.4MB/s eta 0:00:01\r\u001b[K     |█████████████████▎              | 532kB 6.4MB/s eta 0:00:01\r\u001b[K     |█████████████████▋              | 542kB 6.4MB/s eta 0:00:01\r\u001b[K     |██████████████████              | 552kB 6.4MB/s eta 0:00:01\r\u001b[K     |██████████████████▎             | 563kB 6.4MB/s eta 0:00:01\r\u001b[K     |██████████████████▋             | 573kB 6.4MB/s eta 0:00:01\r\u001b[K     |███████████████████             | 583kB 6.4MB/s eta 0:00:01\r\u001b[K     |███████████████████▎            | 593kB 6.4MB/s eta 0:00:01\r\u001b[K     |███████████████████▋            | 604kB 6.4MB/s eta 0:00:01\r\u001b[K     |████████████████████            | 614kB 6.4MB/s eta 0:00:01\r\u001b[K     |████████████████████▎           | 624kB 6.4MB/s eta 0:00:01\r\u001b[K     |████████████████████▋           | 634kB 6.4MB/s eta 0:00:01\r\u001b[K     |█████████████████████           | 645kB 6.4MB/s eta 0:00:01\r\u001b[K     |█████████████████████▎          | 655kB 6.4MB/s eta 0:00:01\r\u001b[K     |█████████████████████▋          | 665kB 6.4MB/s eta 0:00:01\r\u001b[K     |██████████████████████          | 675kB 6.4MB/s eta 0:00:01\r\u001b[K     |██████████████████████▎         | 686kB 6.4MB/s eta 0:00:01\r\u001b[K     |██████████████████████▋         | 696kB 6.4MB/s eta 0:00:01\r\u001b[K     |███████████████████████         | 706kB 6.4MB/s eta 0:00:01\r\u001b[K     |███████████████████████▎        | 716kB 6.4MB/s eta 0:00:01\r\u001b[K     |███████████████████████▋        | 727kB 6.4MB/s eta 0:00:01\r\u001b[K     |████████████████████████        | 737kB 6.4MB/s eta 0:00:01\r\u001b[K     |████████████████████████▎       | 747kB 6.4MB/s eta 0:00:01\r\u001b[K     |████████████████████████▋       | 757kB 6.4MB/s eta 0:00:01\r\u001b[K     |████████████████████████▉       | 768kB 6.4MB/s eta 0:00:01\r\u001b[K     |█████████████████████████▏      | 778kB 6.4MB/s eta 0:00:01\r\u001b[K     |█████████████████████████▌      | 788kB 6.4MB/s eta 0:00:01\r\u001b[K     |█████████████████████████▉      | 798kB 6.4MB/s eta 0:00:01\r\u001b[K     |██████████████████████████▏     | 808kB 6.4MB/s eta 0:00:01\r\u001b[K     |██████████████████████████▌     | 819kB 6.4MB/s eta 0:00:01\r\u001b[K     |██████████████████████████▉     | 829kB 6.4MB/s eta 0:00:01\r\u001b[K     |███████████████████████████▏    | 839kB 6.4MB/s eta 0:00:01\r\u001b[K     |███████████████████████████▌    | 849kB 6.4MB/s eta 0:00:01\r\u001b[K     |███████████████████████████▉    | 860kB 6.4MB/s eta 0:00:01\r\u001b[K     |████████████████████████████▏   | 870kB 6.4MB/s eta 0:00:01\r\u001b[K     |████████████████████████████▌   | 880kB 6.4MB/s eta 0:00:01\r\u001b[K     |████████████████████████████▉   | 890kB 6.4MB/s eta 0:00:01\r\u001b[K     |█████████████████████████████▏  | 901kB 6.4MB/s eta 0:00:01\r\u001b[K     |█████████████████████████████▌  | 911kB 6.4MB/s eta 0:00:01\r\u001b[K     |█████████████████████████████▉  | 921kB 6.4MB/s eta 0:00:01\r\u001b[K     |██████████████████████████████▏ | 931kB 6.4MB/s eta 0:00:01\r\u001b[K     |██████████████████████████████▌ | 942kB 6.4MB/s eta 0:00:01\r\u001b[K     |██████████████████████████████▉ | 952kB 6.4MB/s eta 0:00:01\r\u001b[K     |███████████████████████████████▏| 962kB 6.4MB/s eta 0:00:01\r\u001b[K     |███████████████████████████████▌| 972kB 6.4MB/s eta 0:00:01\r\u001b[K     |███████████████████████████████▉| 983kB 6.4MB/s eta 0:00:01\r\u001b[K     |████████████████████████████████| 993kB 6.4MB/s \n",
            "\u001b[?25h  Building wheel for PyDrive (setup.py) ... \u001b[?25l\u001b[?25hdone\n"
          ],
          "name": "stdout"
        }
      ]
    },
    {
      "cell_type": "markdown",
      "metadata": {
        "id": "wzM7ePJrjr6S",
        "colab_type": "text"
      },
      "source": [
        "###Information about Lending Club:\n",
        "\n",
        "####Lending Club is a marketplace for personal loans that matches borrowers who are seeking a loan with investors looking to lend money and make a return. Each borrower fills out a comprehensive application, providing their past financial history, the reason for the loan, and more. Lending Club evaluates each borrower’s credit score using past historical data (and their own data science process!) and assigns an interest rate to the borrower. "
      ]
    },
    {
      "cell_type": "markdown",
      "metadata": {
        "id": "lZJ7hMm_kUpa",
        "colab_type": "text"
      },
      "source": [
        "###We will use the data dictionary Lending Club provides to get an understanding of the columns to know what each feature represents."
      ]
    },
    {
      "cell_type": "code",
      "metadata": {
        "id": "NsdAP9f2kpQ5",
        "colab_type": "code",
        "outputId": "c976deb3-760e-49fd-ea07-212e88df82f1",
        "colab": {
          "base_uri": "https://localhost:8080/",
          "height": 1105
        }
      },
      "source": [
        "data_dictionary = pd.read_csv('LCDataDictionary.csv') # Loading in the data dictionary\n",
        "data_dictionary = data_dictionary.dropna(how='all',axis=1)\n",
        "data_dictionary.head()\n",
        "data_dictionary = data_dictionary.rename(columns={'LoanStatNew': 'name', 'Description': 'description'})\n",
        "print(data_dictionary)"
      ],
      "execution_count": 3,
      "outputs": [
        {
          "output_type": "stream",
          "text": [
            "                                           name                                        description\n",
            "0                                acc_now_delinq  The number of accounts on which the borrower i...\n",
            "1                          acc_open_past_24mths         Number of trades opened in past 24 months.\n",
            "2                                    addr_state  The state provided by the borrower in the loan...\n",
            "3                                      all_util              Balance to credit limit on all trades\n",
            "4                                    annual_inc  The self-reported annual income provided by th...\n",
            "5                              annual_inc_joint  The combined self-reported annual income provi...\n",
            "6                              application_type  Indicates whether the loan is an individual ap...\n",
            "7                                   avg_cur_bal            Average current balance of all accounts\n",
            "8                                bc_open_to_buy          Total open to buy on revolving bankcards.\n",
            "9                                       bc_util  Ratio of total current balance to high credit/...\n",
            "10                     chargeoff_within_12_mths             Number of charge-offs within 12 months\n",
            "11                      collection_recovery_fee                     post charge off collection fee\n",
            "12                   collections_12_mths_ex_med  Number of collections in 12 months excluding m...\n",
            "13                                  delinq_2yrs  The number of 30+ days past-due incidences of ...\n",
            "14                                  delinq_amnt  The past-due amount owed for the accounts on w...\n",
            "15                                         desc          Loan description provided by the borrower\n",
            "16                                          dti  A ratio calculated using the borrower’s total ...\n",
            "17                                    dti_joint  A ratio calculated using the co-borrowers' tot...\n",
            "18                             earliest_cr_line  The month the borrower's earliest reported cre...\n",
            "19                                   emp_length  Employment length in years. Possible values ar...\n",
            "20                                    emp_title  The job title supplied by the Borrower when ap...\n",
            "21                              fico_range_high  The upper boundary range the borrower’s FICO a...\n",
            "22                               fico_range_low  The lower boundary range the borrower’s FICO a...\n",
            "23                                  funded_amnt  The total amount committed to that loan at tha...\n",
            "24                              funded_amnt_inv  The total amount committed by investors for th...\n",
            "25                                        grade                             LC assigned loan grade\n",
            "26                               home_ownership  The home ownership status provided by the borr...\n",
            "27                                           id      A unique LC assigned ID for the loan listing.\n",
            "28                                      il_util  Ratio of total current balance to high credit/...\n",
            "29                          initial_list_status  The initial listing status of the loan. Possib...\n",
            "..                                          ...                                                ...\n",
            "123                         sec_app_open_act_il   Number of currently active installment trades...\n",
            "124                      sec_app_num_rev_accts    Number of revolving accounts at time of appli...\n",
            "125           sec_app_chargeoff_within_12_mths    Number of charge-offs within last 12 months a...\n",
            "126         sec_app_collections_12_mths_ex_med    Number of collections within last 12 months e...\n",
            "127        sec_app_mths_since_last_major_derog    Months since most recent 90-day or worse rati...\n",
            "128                               hardship_flag  Flags whether or not the borrower is on a hard...\n",
            "129                               hardship_type               Describes the hardship plan offering\n",
            "130                             hardship_reason  Describes the reason the hardship plan was off...\n",
            "131                             hardship_status  Describes if the hardship plan is active, pend...\n",
            "132                               deferral_term  Amount of months that the borrower is expected...\n",
            "133                             hardship_amount  The interest payment that the borrower has com...\n",
            "134                         hardship_start_date         The start date of the hardship plan period\n",
            "135                           hardship_end_date           The end date of the hardship plan period\n",
            "136                     payment_plan_start_date  The day the first hardship plan payment is due...\n",
            "137                             hardship_length  The number of months the borrower will make sm...\n",
            "138                                hardship_dpd  Account days past due as of the hardship plan ...\n",
            "139                        hardship_loan_status     Loan Status as of the hardship plan start date\n",
            "140  orig_projected_additional_accrued_interest  The original projected additional interest amo...\n",
            "141              hardship_payoff_balance_amount  The payoff balance amount as of the hardship p...\n",
            "142                hardship_last_payment_amount  The last payment amount as of the hardship pla...\n",
            "143                         disbursement_method  The method by which the borrower receives thei...\n",
            "144                        debt_settlement_flag  Flags whether or not the borrower, who has cha...\n",
            "145                   debt_settlement_flag_date  The most recent date that the Debt_Settlement_...\n",
            "146                           settlement_status  The status of the borrower’s settlement plan. ...\n",
            "147                             settlement_date  The date that the borrower agrees to the settl...\n",
            "148                           settlement_amount  The loan amount that the borrower has agreed t...\n",
            "149                       settlement_percentage  The settlement amount as a percentage of the p...\n",
            "150                             settlement_term  The number of months that the borrower will be...\n",
            "151                                         NaN                                                NaN\n",
            "152                                         NaN  * Employer Title replaces Employer Name for al...\n",
            "\n",
            "[153 rows x 2 columns]\n"
          ],
          "name": "stdout"
        }
      ]
    },
    {
      "cell_type": "code",
      "metadata": {
        "id": "wU3Rg3DK3lgj",
        "colab_type": "code",
        "colab": {}
      },
      "source": [
        "#Clean the dataset\n",
        "loan_data = pd.read_csv('LoanStats3a.csv',skiprows=1,low_memory=False)\n",
        "half_count = len(loan_data) / 2\n",
        "loan_data = loan_data.dropna(thresh=half_count,axis=1) # Drop any column with more than 50% missing values\n",
        "loan_data = filtered_data = loan_data.drop(['desc'],axis=1) # These columns are not useful for our purposes\n",
        "#Delete annual_inc outliers\n",
        "for key,value in enumerate(loan_data[\"annual_inc\"]):\n",
        "  if value > 100000:\n",
        "    filtered_data = filtered_data.drop(key, axis=0)\n",
        "filtered_data = filtered_data.dropna(axis=0)"
      ],
      "execution_count": 0,
      "outputs": []
    },
    {
      "cell_type": "code",
      "metadata": {
        "id": "7d7Hjet1lfUB",
        "colab_type": "code",
        "outputId": "3819cc83-58ab-4266-a149-1d51ed35bd9c",
        "colab": {
          "base_uri": "https://localhost:8080/",
          "height": 291
        }
      },
      "source": [
        "#Create a boxplot to find statistical features\n",
        "sns.set(style=\"whitegrid\")\n",
        "ax = sns.boxplot(x=filtered_data[\"annual_inc\"], y=filtered_data[\"loan_status\"])"
      ],
      "execution_count": 144,
      "outputs": [
        {
          "output_type": "display_data",
          "data": {
            "image/png": "[encoded data removed]",
            "text/plain": [
              "<Figure size 432x288 with 1 Axes>"
            ]
          },
          "metadata": {
            "tags": []
          }
        }
      ]
    },
    {
      "cell_type": "markdown",
      "metadata": {
        "id": "UgxcszSacndD",
        "colab_type": "text"
      },
      "source": [
        "####Looks like the median annual income is ~$50K"
      ]
    },
    {
      "cell_type": "code",
      "metadata": {
        "id": "2V7bKQUDxRGi",
        "colab_type": "code",
        "outputId": "4cb3a1e3-9821-4aee-879f-3803b0edca4a",
        "colab": {
          "base_uri": "https://localhost:8080/",
          "height": 291
        }
      },
      "source": [
        "ax = sns.boxplot(x=filtered_data[\"grade\"], y=filtered_data[\"annual_inc\"])"
      ],
      "execution_count": 145,
      "outputs": [
        {
          "output_type": "display_data",
          "data": {
            "image/png": "[encoded data removed]",
            "text/plain": [
              "<Figure size 432x288 with 1 Axes>"
            ]
          },
          "metadata": {
            "tags": []
          }
        }
      ]
    },
    {
      "cell_type": "markdown",
      "metadata": {
        "id": "LD_Pb5dNx-vV",
        "colab_type": "text"
      },
      "source": [
        "####It looks like income and loan grade have very little correlation, there is not much variance as grade D is similar to Grade A, B, and C"
      ]
    },
    {
      "cell_type": "code",
      "metadata": {
        "id": "6C9XjNpAyYBy",
        "colab_type": "code",
        "outputId": "40c410fd-1068-45dd-92a6-7b37a90aef05",
        "colab": {
          "base_uri": "https://localhost:8080/",
          "height": 508
        }
      },
      "source": [
        "plt.figure(figsize = (10,8))\n",
        "loan_data['annual_inc'] = pd.to_numeric(loan_data['annual_inc'], errors='coerce')\n",
        "loan_data = loan_data.dropna(subset=['annual_inc'])\n",
        "loan_data['annual_inc'] = loan_data['annual_inc'].astype(int)\n",
        "g = sns.distplot(loan_data['annual_inc'])\n",
        "g.set_xlabel(\"annual_inc\", fontsize=12)\n",
        "plt.show()"
      ],
      "execution_count": 146,
      "outputs": [
        {
          "output_type": "display_data",
          "data": {
            "image/png": "[encoded data removed]",
            "text/plain": [
              "<Figure size 720x576 with 1 Axes>"
            ]
          },
          "metadata": {
            "tags": []
          }
        }
      ]
    },
    {
      "cell_type": "markdown",
      "metadata": {
        "id": "Y6d0zg02mmKe",
        "colab_type": "text"
      },
      "source": [
        "###From the distribution plot above we can observe that there's a power law, it is highly skewed and highly peaked at the lower end of the annual income spectrum. Most applications are coming from the lower end of the annual income spectrum. "
      ]
    },
    {
      "cell_type": "markdown",
      "metadata": {
        "id": "oCrzFNlpXWS8",
        "colab_type": "text"
      },
      "source": [
        "###We will now build a Naive Bayesian Classifier model to predict the accuracy of the account stauts by taking into account only a few important feautures."
      ]
    },
    {
      "cell_type": "code",
      "metadata": {
        "id": "HmKF-FldoY6-",
        "colab_type": "code",
        "colab": {
          "base_uri": "https://localhost:8080/",
          "height": 34
        },
        "outputId": "39850561-1b84-447e-fecb-a455034aee07"
      },
      "source": [
        "#Build & use a Bayesian Classifier to predict the credit score of a person given other data from the dataset\n",
        "from sklearn.naive_bayes import GaussianNB\n",
        "from sklearn.metrics import accuracy_score\n",
        "from sklearn.model_selection import train_test_split\n",
        "from sklearn import preprocessing\n",
        "\n",
        "#Pick relevent features for the dataset(x)\n",
        "filtered_data[\"loan_status\"] = filtered_data[\"loan_status\"].astype(dtype=\"str\")\n",
        "loan_data = filtered_data.drop(columns=['term','installment', 'grade', 'sub_grade', 'emp_title', 'emp_length',\n",
        "       'home_ownership', 'annual_inc', 'verification_status', 'issue_d',\n",
        "       'loan_status', 'pymnt_plan', 'purpose', 'title', 'zip_code',\n",
        "       'addr_state', 'dti', 'delinq_2yrs', 'earliest_cr_line',\n",
        "       'inq_last_6mths', 'open_acc', 'pub_rec', 'revol_bal', 'revol_util',\n",
        "       'total_acc', 'initial_list_status', 'out_prncp', 'out_prncp_inv',\n",
        "       'total_pymnt', 'total_pymnt_inv', 'total_rec_prncp', 'total_rec_int',\n",
        "       'total_rec_late_fee', 'recoveries', 'collection_recovery_fee',\n",
        "       'last_pymnt_d', 'last_pymnt_amnt', 'last_credit_pull_d',\n",
        "       'collections_12_mths_ex_med', 'policy_code', 'application_type',\n",
        "       'acc_now_delinq', 'chargeoff_within_12_mths', 'delinq_amnt',\n",
        "       'pub_rec_bankruptcies', 'tax_liens', 'hardship_flag',\n",
        "       'debt_settlement_flag'])\n",
        "loan_data = loan_data.dropna(axis=0)\n",
        "loan_data[\"int_rate\"] = loan_data[\"int_rate\"].replace(\"%\",\"\", regex=True).astype(float)\n",
        "loan_data = np.array(loan_data)\n",
        "\n",
        "le = preprocessing.LabelEncoder()\n",
        "\n",
        "y = le.fit_transform(filtered_data[\"loan_status\"])\n",
        "X = loan_data\n",
        "X_train,X_test,y_train,y_test = train_test_split(X,y,test_size=0.25,random_state=42)\n",
        "\n",
        "model_naive = GaussianNB()\n",
        "model_naive.fit(X_train,y_train)\n",
        "y_pred_naive_grade = model_naive.predict(X_test)\n",
        "\n",
        "accuracy_score(y_test,y_pred_naive_grade)\n",
        "\n"
      ],
      "execution_count": 155,
      "outputs": [
        {
          "output_type": "execute_result",
          "data": {
            "text/plain": [
              "0.786374695863747"
            ]
          },
          "metadata": {
            "tags": []
          },
          "execution_count": 155
        }
      ]
    },
    {
      "cell_type": "markdown",
      "metadata": {
        "id": "Avi9ZpxHW_wL",
        "colab_type": "text"
      },
      "source": [
        "##Awesome! \n",
        "###Our model gives an accuracy of 79% which isn't bad for a simple implementation."
      ]
    }
  ]
}